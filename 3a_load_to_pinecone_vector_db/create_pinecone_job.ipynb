{
 "cells": [
  {
   "cell_type": "code",
   "execution_count": null,
   "metadata": {},
   "outputs": [],
   "source": [
    "import os"
   ]
  },
  {
   "cell_type": "markdown",
   "metadata": {},
   "source": []
  },
  {
   "cell_type": "code",
   "execution_count": null,
   "metadata": {},
   "outputs": [],
   "source": [
    "os.environ[\"PINECONE_API_KEY\"] = \"YOUR KEY HERE\"  ## Replace with yours\n",
    "os.environ[\"PINECONE_ENVIRONMENT\"] = \"key here\"  ## Default\n",
    "os.environ[\"PINECONE_INDEX\"] = \"cml-default\" ## Default"
   ]
  }
 ],
 "metadata": {
  "language_info": {
   "name": "python"
  }
 },
 "nbformat": 4,
 "nbformat_minor": 2
}
